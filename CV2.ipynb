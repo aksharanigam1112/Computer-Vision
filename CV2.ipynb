{
  "nbformat": 4,
  "nbformat_minor": 0,
  "metadata": {
    "colab": {
      "name": "CV2.ipynb",
      "provenance": []
    },
    "kernelspec": {
      "name": "python3",
      "display_name": "Python 3"
    }
  },
  "cells": [
    {
      "cell_type": "code",
      "metadata": {
        "id": "8j1nxExdXXrQ",
        "colab_type": "code",
        "colab": {}
      },
      "source": [
        "import cv2\n",
        "import matplotlib.pyplot as plt\n",
        "from PIL import Image\n",
        "import numpy as np"
      ],
      "execution_count": 2,
      "outputs": []
    },
    {
      "cell_type": "code",
      "metadata": {
        "id": "pZ6WTloQXhxm",
        "colab_type": "code",
        "colab": {
          "base_uri": "https://localhost:8080/",
          "height": 286
        },
        "outputId": "ed330013-1b1c-4b5f-8bf7-4c1dc9284c26"
      },
      "source": [
        "# Create Black Image\n",
        "black_img = np.zeros(shape=(512,512,3),dtype=np.int16)\n",
        "# black_img.shape\n",
        "plt.imshow(black_img)"
      ],
      "execution_count": 6,
      "outputs": [
        {
          "output_type": "execute_result",
          "data": {
            "text/plain": [
              "<matplotlib.image.AxesImage at 0x7f9a44d55c88>"
            ]
          },
          "metadata": {
            "tags": []
          },
          "execution_count": 6
        },
        {
          "output_type": "display_data",
          "data": {
            "image/png": "[encoded data removed]",
            "text/plain": [
              "<Figure size 432x288 with 1 Axes>"
            ]
          },
          "metadata": {
            "tags": [],
            "needs_background": "light"
          }
        }
      ]
    },
    {
      "cell_type": "code",
      "metadata": {
        "id": "M6kbSMA-YDHR",
        "colab_type": "code",
        "colab": {
          "base_uri": "https://localhost:8080/",
          "height": 286
        },
        "outputId": "daf63d28-3bea-4199-a83b-95fa350ee60f"
      },
      "source": [
        "# Draw a circle\n",
        "cv2.circle(img=black_img,\n",
        "          center=(400,100),\n",
        "           radius=50,\n",
        "           color=(255,0,0),\n",
        "           thickness=8)\n",
        "plt.imshow(black_img)"
      ],
      "execution_count": 8,
      "outputs": [
        {
          "output_type": "execute_result",
          "data": {
            "text/plain": [
              "<matplotlib.image.AxesImage at 0x7f9a443f6b38>"
            ]
          },
          "metadata": {
            "tags": []
          },
          "execution_count": 8
        },
        {
          "output_type": "display_data",
          "data": {
            "image/png": "[encoded data removed]",
            "text/plain": [
              "<Figure size 432x288 with 1 Axes>"
            ]
          },
          "metadata": {
            "tags": [],
            "needs_background": "light"
          }
        }
      ]
    },
    {
      "cell_type": "code",
      "metadata": {
        "id": "jHSn5ansYQUd",
        "colab_type": "code",
        "colab": {
          "base_uri": "https://localhost:8080/",
          "height": 286
        },
        "outputId": "d8fe9c5b-8533-48d9-90bd-62a30015f546"
      },
      "source": [
        "# Draw a Filled circle\n",
        "cv2.circle(img=black_img,\n",
        "          center=(400,200),\n",
        "           radius=50,\n",
        "           color=(0,255,0),\n",
        "           thickness=-1)\n",
        "plt.imshow(black_img)"
      ],
      "execution_count": 9,
      "outputs": [
        {
          "output_type": "execute_result",
          "data": {
            "text/plain": [
              "<matplotlib.image.AxesImage at 0x7f9a443190b8>"
            ]
          },
          "metadata": {
            "tags": []
          },
          "execution_count": 9
        },
        {
          "output_type": "display_data",
          "data": {
            "image/png": "[encoded data removed]",
            "text/plain": [
              "<Figure size 432x288 with 1 Axes>"
            ]
          },
          "metadata": {
            "tags": [],
            "needs_background": "light"
          }
        }
      ]
    },
    {
      "cell_type": "code",
      "metadata": {
        "id": "JXuZlm-YZBTW",
        "colab_type": "code",
        "colab": {
          "base_uri": "https://localhost:8080/",
          "height": 286
        },
        "outputId": "53ec126e-7ed7-4812-909d-3d66f6ea77a5"
      },
      "source": [
        "# Draw a rectangle\n",
        "cv2.rectangle(img=black_img,\n",
        "              pt1=(200,200),\n",
        "              pt2=(300,300),\n",
        "           color=(255,120,0),\n",
        "           thickness=3)\n",
        "plt.imshow(black_img)"
      ],
      "execution_count": 10,
      "outputs": [
        {
          "output_type": "execute_result",
          "data": {
            "text/plain": [
              "<matplotlib.image.AxesImage at 0x7f9a442fb4e0>"
            ]
          },
          "metadata": {
            "tags": []
          },
          "execution_count": 10
        },
        {
          "output_type": "display_data",
          "data": {
            "image/png": "[encoded data removed]",
            "text/plain": [
              "<Figure size 432x288 with 1 Axes>"
            ]
          },
          "metadata": {
            "tags": [],
            "needs_background": "light"
          }
        }
      ]
    },
    {
      "cell_type": "code",
      "metadata": {
        "id": "QsVOrSA8ZXjT",
        "colab_type": "code",
        "colab": {
          "base_uri": "https://localhost:8080/",
          "height": 286
        },
        "outputId": "c041f0a7-6296-4e8c-db96-58feb58ba98a"
      },
      "source": [
        "# Draw triangle\n",
        "vertices = np.array([[10,450],\n",
        "                     [110,350],\n",
        "                     [180,450]],np.int32)\n",
        "\n",
        "pts = vertices.reshape(-1,1,2)\n",
        "cv2.polylines(img=black_img,\n",
        "              pts=[pts],\n",
        "              isClosed=True,\n",
        "              color=(0,0,255),\n",
        "              thickness=2)\n",
        "plt.imshow(black_img)"
      ],
      "execution_count": 15,
      "outputs": [
        {
          "output_type": "execute_result",
          "data": {
            "text/plain": [
              "<matplotlib.image.AxesImage at 0x7f9a44242e48>"
            ]
          },
          "metadata": {
            "tags": []
          },
          "execution_count": 15
        },
        {
          "output_type": "display_data",
          "data": {
            "image/png": "[encoded data removed]",
            "text/plain": [
              "<Figure size 432x288 with 1 Axes>"
            ]
          },
          "metadata": {
            "tags": [],
            "needs_background": "light"
          }
        }
      ]
    },
    {
      "cell_type": "code",
      "metadata": {
        "id": "ri8GFn7saQ39",
        "colab_type": "code",
        "colab": {
          "base_uri": "https://localhost:8080/",
          "height": 286
        },
        "outputId": "366caba9-7158-4c20-9f06-3585aa5fc69d"
      },
      "source": [
        "# Filled Rectangle\n",
        "cv2.rectangle(img=black_img,\n",
        "              pt1=(200,50),\n",
        "              pt2=(300,150),\n",
        "           color=(137,79,213),\n",
        "           thickness=-1)\n",
        "plt.imshow(black_img)\n"
      ],
      "execution_count": 16,
      "outputs": [
        {
          "output_type": "execute_result",
          "data": {
            "text/plain": [
              "<matplotlib.image.AxesImage at 0x7f9a4419cdd8>"
            ]
          },
          "metadata": {
            "tags": []
          },
          "execution_count": 16
        },
        {
          "output_type": "display_data",
          "data": {
            "image/png": "[encoded data removed]",
            "text/plain": [
              "<Figure size 432x288 with 1 Axes>"
            ]
          },
          "metadata": {
            "tags": [],
            "needs_background": "light"
          }
        }
      ]
    },
    {
      "cell_type": "code",
      "metadata": {
        "id": "5ugB7TARa5WO",
        "colab_type": "code",
        "colab": {
          "base_uri": "https://localhost:8080/",
          "height": 286
        },
        "outputId": "ac226ccf-cd79-43ff-a609-f4552e376194"
      },
      "source": [
        "# Filled Triangle\n",
        "\n",
        "vertices = np.array([[10,250],\n",
        "                     [110,150],\n",
        "                     [180,250]],np.int32)\n",
        "\n",
        "pts = vertices.reshape(-1,1,2)\n",
        "cv2.fillPoly(img=black_img,\n",
        "              pts=[pts],\n",
        "              color=(255,167,201))\n",
        "\n",
        "plt.imshow(black_img)"
      ],
      "execution_count": 19,
      "outputs": [
        {
          "output_type": "execute_result",
          "data": {
            "text/plain": [
              "<matplotlib.image.AxesImage at 0x7f9a440f2438>"
            ]
          },
          "metadata": {
            "tags": []
          },
          "execution_count": 19
        },
        {
          "output_type": "display_data",
          "data": {
            "image/png": "[encoded data removed]",
            "text/plain": [
              "<Figure size 432x288 with 1 Axes>"
            ]
          },
          "metadata": {
            "tags": [],
            "needs_background": "light"
          }
        }
      ]
    },
    {
      "cell_type": "code",
      "metadata": {
        "id": "JDpoOY2obNN7",
        "colab_type": "code",
        "colab": {
          "base_uri": "https://localhost:8080/",
          "height": 286
        },
        "outputId": "720d6194-6f88-475b-b8a2-4f05be62ec8d"
      },
      "source": [
        "# Draw Line\n",
        "\n",
        "cv2.line(img=black_img,\n",
        "         pt1=(512,0),\n",
        "         pt2=(0,512),\n",
        "         color=(255,0,255),\n",
        "         thickness=4)\n",
        "\n",
        "plt.imshow(black_img)"
      ],
      "execution_count": 21,
      "outputs": [
        {
          "output_type": "execute_result",
          "data": {
            "text/plain": [
              "<matplotlib.image.AxesImage at 0x7f9a44030a20>"
            ]
          },
          "metadata": {
            "tags": []
          },
          "execution_count": 21
        },
        {
          "output_type": "display_data",
          "data": {
            "image/png": "[encoded data removed]",
            "text/plain": [
              "<Figure size 432x288 with 1 Axes>"
            ]
          },
          "metadata": {
            "tags": [],
            "needs_background": "light"
          }
        }
      ]
    },
    {
      "cell_type": "code",
      "metadata": {
        "id": "oRqtVJM-bsz_",
        "colab_type": "code",
        "colab": {
          "base_uri": "https://localhost:8080/",
          "height": 286
        },
        "outputId": "b8a455c0-2a6a-482b-e57d-f0ba81af6abd"
      },
      "source": [
        "# Write text\n",
        "font = cv2.FONT_HERSHEY_SIMPLEX\n",
        "\n",
        "cv2.putText(img=black_img,\n",
        "            text=\"Hello Akshara\",\n",
        "            org=(210,500),\n",
        "            fontFace=font,\n",
        "            fontScale=1,\n",
        "            color=(255,255,0),\n",
        "            thickness=3,\n",
        "            lineType=cv2.LINE_AA)\n",
        "\n",
        "plt.imshow(black_img)"
      ],
      "execution_count": 24,
      "outputs": [
        {
          "output_type": "execute_result",
          "data": {
            "text/plain": [
              "<matplotlib.image.AxesImage at 0x7f9a43ee3160>"
            ]
          },
          "metadata": {
            "tags": []
          },
          "execution_count": 24
        },
        {
          "output_type": "display_data",
          "data": {
            "image/png": "[encoded data removed]",
            "text/plain": [
              "<Figure size 432x288 with 1 Axes>"
            ]
          },
          "metadata": {
            "tags": [],
            "needs_background": "light"
          }
        }
      ]
    },
    {
      "cell_type": "code",
      "metadata": {
        "id": "gUG-bvaVeHoa",
        "colab_type": "code",
        "colab": {}
      },
      "source": [
        ""
      ],
      "execution_count": 24,
      "outputs": []
    }
  ]
}